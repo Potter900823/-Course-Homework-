{
  "nbformat": 4,
  "nbformat_minor": 0,
  "metadata": {
    "colab": {
      "name": "Untitled2.ipynb",
      "provenance": [],
      "include_colab_link": true
    },
    "kernelspec": {
      "name": "python3",
      "display_name": "Python 3"
    }
  },
  "cells": [
    {
      "cell_type": "markdown",
      "metadata": {
        "id": "view-in-github",
        "colab_type": "text"
      },
      "source": [
        "<a href=\"https://colab.research.google.com/github/Potter900823/-Course-Homework-/blob/master/Untitled2.ipynb\" target=\"_parent\"><img src=\"https://colab.research.google.com/assets/colab-badge.svg\" alt=\"Open In Colab\"/></a>"
      ]
    },
    {
      "cell_type": "code",
      "metadata": {
        "id": "nR4YZY8ONl_x",
        "colab_type": "code",
        "colab": {
          "base_uri": "https://localhost:8080/",
          "height": 34
        },
        "outputId": "c93ae790-783b-42ec-a978-744844ba8382"
      },
      "source": [
        "print(bool(True))\n"
      ],
      "execution_count": 7,
      "outputs": [
        {
          "output_type": "stream",
          "text": [
            "True\n"
          ],
          "name": "stdout"
        }
      ]
    },
    {
      "cell_type": "code",
      "metadata": {
        "id": "xatrGi80RHHA",
        "colab_type": "code",
        "colab": {
          "base_uri": "https://localhost:8080/",
          "height": 34
        },
        "outputId": "88ef9963-f167-4915-d1b4-a9a590e3f7f1"
      },
      "source": [
        "a=1\n",
        "a"
      ],
      "execution_count": 10,
      "outputs": [
        {
          "output_type": "execute_result",
          "data": {
            "text/plain": [
              "1"
            ]
          },
          "metadata": {
            "tags": []
          },
          "execution_count": 10
        }
      ]
    },
    {
      "cell_type": "code",
      "metadata": {
        "id": "THWiRe7TRhTl",
        "colab_type": "code",
        "colab": {
          "base_uri": "https://localhost:8080/",
          "height": 34
        },
        "outputId": "2ce1f336-a251-46dc-cbac-243a616af668"
      },
      "source": [
        "a=\"Python\"\n",
        "a"
      ],
      "execution_count": 12,
      "outputs": [
        {
          "output_type": "execute_result",
          "data": {
            "text/plain": [
              "'Python'"
            ]
          },
          "metadata": {
            "tags": []
          },
          "execution_count": 12
        }
      ]
    },
    {
      "cell_type": "code",
      "metadata": {
        "id": "9htEV5EYRqCf",
        "colab_type": "code",
        "colab": {}
      },
      "source": [
        "a=123\n",
        "b=123.456\n",
        "c=\"Python\"\n",
        "d=False"
      ],
      "execution_count": 0,
      "outputs": []
    },
    {
      "cell_type": "code",
      "metadata": {
        "id": "dpydsu0BSMv8",
        "colab_type": "code",
        "colab": {
          "base_uri": "https://localhost:8080/",
          "height": 51
        },
        "outputId": "28939058-d307-4a1d-ef9d-b94c61da485e"
      },
      "source": [
        "a=1\n",
        "print(a, id(a))\n",
        "b=\"Python\"\n",
        "print(b, id(b))"
      ],
      "execution_count": 16,
      "outputs": [
        {
          "output_type": "stream",
          "text": [
            "1 10968800\n",
            "Python 140285751241784\n"
          ],
          "name": "stdout"
        }
      ]
    },
    {
      "cell_type": "code",
      "metadata": {
        "id": "VuAnXyGWSpRF",
        "colab_type": "code",
        "colab": {
          "base_uri": "https://localhost:8080/",
          "height": 34
        },
        "outputId": "1e201355-4513-4aa8-ddfd-3ff7cca6ac29"
      },
      "source": [
        "x=1\n",
        "y=2\n",
        "print(id(x), id(y))\n"
      ],
      "execution_count": 17,
      "outputs": [
        {
          "output_type": "stream",
          "text": [
            "10968800 10968832\n"
          ],
          "name": "stdout"
        }
      ]
    },
    {
      "cell_type": "code",
      "metadata": {
        "id": "QLl97HHWTDxf",
        "colab_type": "code",
        "colab": {
          "base_uri": "https://localhost:8080/",
          "height": 34
        },
        "outputId": "e6b7aca1-4110-4c9f-bd50-33113eef65cb"
      },
      "source": [
        "import sys\n",
        "x=789\n",
        "sys.getsizeof(x)"
      ],
      "execution_count": 22,
      "outputs": [
        {
          "output_type": "execute_result",
          "data": {
            "text/plain": [
              "28"
            ]
          },
          "metadata": {
            "tags": []
          },
          "execution_count": 22
        }
      ]
    },
    {
      "cell_type": "code",
      "metadata": {
        "id": "pWJ74tZVTPDI",
        "colab_type": "code",
        "colab": {
          "base_uri": "https://localhost:8080/",
          "height": 153
        },
        "outputId": "db8962a4-9b37-4910-fe6e-bd08b0de2a45"
      },
      "source": [
        "s1 = '春眠不覺曉,處處聞啼鳥。'\n",
        "print(s1)\n",
        "s2 = \"夜來風雨聲,花落知多少。\"\n",
        "print(s2)\n",
        "s3 = '作者\"孟浩然\"詩名\"春曉\"'\n",
        "print(s3)\n",
        "s4 = \"作者'孟浩然'詩名'春曉'\"\n",
        "print(s4)\n",
        "s5 = '''春眠不覺曉,處處聞啼鳥。\n",
        "夜來風雨聲,花落知多少。\n",
        "作者\"孟浩然\"詩名\"春曉\"\n",
        "'''\n",
        "print(s5)"
      ],
      "execution_count": 26,
      "outputs": [
        {
          "output_type": "stream",
          "text": [
            "春眠不覺曉,處處聞啼鳥。\n",
            "夜來風雨聲,花落知多少。\n",
            "作者\"孟浩然\"詩名\"春曉\"\n",
            "作者'孟浩然'詩名'春曉'\n",
            "春眠不覺曉,處處聞啼鳥。\n",
            "夜來風雨聲,花落知多少。\n",
            "作者\"孟浩然\"詩名\"春曉\"\n",
            "\n"
          ],
          "name": "stdout"
        }
      ]
    },
    {
      "cell_type": "code",
      "metadata": {
        "id": "R1dvXh5wUUra",
        "colab_type": "code",
        "colab": {
          "base_uri": "https://localhost:8080/",
          "height": 68
        },
        "outputId": "1fa793fb-cfcf-4d1b-d958-7f2eb2d2a0b2"
      },
      "source": [
        "print(\"potter \\n ding\")\n",
        "print(\"poyuan \\t Ding\")"
      ],
      "execution_count": 28,
      "outputs": [
        {
          "output_type": "stream",
          "text": [
            "potter \n",
            " ding\n",
            "poyuan \t Ding\n"
          ],
          "name": "stdout"
        }
      ]
    },
    {
      "cell_type": "code",
      "metadata": {
        "id": "cHNz3XRGVm6d",
        "colab_type": "code",
        "colab": {
          "base_uri": "https://localhost:8080/",
          "height": 51
        },
        "outputId": "125e14ab-a39d-4f2b-f87f-027d0c0b80e5"
      },
      "source": [
        "s = input()\n",
        "s"
      ],
      "execution_count": 1,
      "outputs": [
        {
          "output_type": "stream",
          "text": [
            "hi\n"
          ],
          "name": "stdout"
        },
        {
          "output_type": "execute_result",
          "data": {
            "text/plain": [
              "'hi'"
            ]
          },
          "metadata": {
            "tags": []
          },
          "execution_count": 1
        }
      ]
    },
    {
      "cell_type": "code",
      "metadata": {
        "id": "ndP35xTnWbBZ",
        "colab_type": "code",
        "colab": {
          "base_uri": "https://localhost:8080/",
          "height": 51
        },
        "outputId": "8bf5a595-d7c9-4295-8132-523df7e3d777"
      },
      "source": [
        "s = input(\"Enter Your Name:\")\n",
        "s"
      ],
      "execution_count": 2,
      "outputs": [
        {
          "output_type": "stream",
          "text": [
            "Enter Your Name:potter\n"
          ],
          "name": "stdout"
        },
        {
          "output_type": "execute_result",
          "data": {
            "text/plain": [
              "'potter'"
            ]
          },
          "metadata": {
            "tags": []
          },
          "execution_count": 2
        }
      ]
    },
    {
      "cell_type": "code",
      "metadata": {
        "id": "ZXmQV693Ws83",
        "colab_type": "code",
        "colab": {
          "base_uri": "https://localhost:8080/",
          "height": 51
        },
        "outputId": "053c77fc-ee11-4aaa-815a-77cb0859ffce"
      },
      "source": [
        "s = input (\"Enter Your Name:\")\n",
        "print(\"Hi,\", s)"
      ],
      "execution_count": 3,
      "outputs": [
        {
          "output_type": "stream",
          "text": [
            "Enter Your Name:potter\n",
            "Hi, potter\n"
          ],
          "name": "stdout"
        }
      ]
    },
    {
      "cell_type": "code",
      "metadata": {
        "id": "VxZ66TrSW6uA",
        "colab_type": "code",
        "colab": {}
      },
      "source": [
        ""
      ],
      "execution_count": 0,
      "outputs": []
    }
  ]
}