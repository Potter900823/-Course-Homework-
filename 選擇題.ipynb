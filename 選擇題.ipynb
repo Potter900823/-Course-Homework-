{
  "nbformat": 4,
  "nbformat_minor": 0,
  "metadata": {
    "colab": {
      "name": "選擇題",
      "provenance": [],
      "include_colab_link": true
    },
    "kernelspec": {
      "name": "python3",
      "display_name": "Python 3"
    }
  },
  "cells": [
    {
      "cell_type": "markdown",
      "metadata": {
        "id": "view-in-github",
        "colab_type": "text"
      },
      "source": [
        "<a href=\"https://colab.research.google.com/github/Potter900823/-Course-Homework-/blob/master/%E9%81%B8%E6%93%87%E9%A1%8C.ipynb\" target=\"_parent\"><img src=\"https://colab.research.google.com/assets/colab-badge.svg\" alt=\"Open In Colab\"/></a>"
      ]
    },
    {
      "cell_type": "code",
      "metadata": {
        "id": "YT13ho_2y5yv",
        "colab_type": "code",
        "colab": {}
      },
      "source": [
        "是非題\n",
        "1. O\n",
        "2. O\n",
        "3. O\n",
        "4. X\n",
        "5. X\n",
        "6. O\n",
        "7. X\n",
        "8. X\n",
        "9. X\n",
        "10. X\n",
        "11.X\n",
        "12. O \n",
        "13. O\n",
        "14. X\n",
        "15. O\n",
        "16. X\n",
        "17. O\n",
        "18. X\n",
        "19. O \n",
        "20. O\n",
        "21. O\n",
        "22. X\n",
        "23. X\n",
        "\n",
        "選擇題\n",
        "1. A\n",
        "2. B\n",
        "3. D\n",
        "4. C\n",
        "5. A\n",
        "6. A\n",
        "7. B\n",
        "8. C\n",
        "9. A\n",
        "10. B\n",
        "11. C\n",
        "12. A\n",
        "13. B\n",
        "14. C\n",
        "15. D"
      ],
      "execution_count": 0,
      "outputs": []
    }
  ]
}