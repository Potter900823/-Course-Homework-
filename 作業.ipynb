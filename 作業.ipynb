{
  "nbformat": 4,
  "nbformat_minor": 0,
  "metadata": {
    "colab": {
      "name": "作業",
      "provenance": [],
      "include_colab_link": true
    },
    "kernelspec": {
      "name": "python3",
      "display_name": "Python 3"
    }
  },
  "cells": [
    {
      "cell_type": "markdown",
      "metadata": {
        "id": "view-in-github",
        "colab_type": "text"
      },
      "source": [
        "<a href=\"https://colab.research.google.com/github/Potter900823/-Course-Homework-/blob/master/%E4%BD%9C%E6%A5%AD.ipynb\" target=\"_parent\"><img src=\"https://colab.research.google.com/assets/colab-badge.svg\" alt=\"Open In Colab\"/></a>"
      ]
    },
    {
      "cell_type": "code",
      "metadata": {
        "id": "TJF2OuUMS9-K",
        "colab_type": "code",
        "outputId": "9ca0a89d-3b97-4d6e-c790-d2a9e309221f",
        "colab": {
          "base_uri": "https://localhost:8080/",
          "height": 85
        }
      },
      "source": [
        "上衣 = int(input('請輸入上衣數量?'))\n",
        "褲子 = int(input('請輸入褲子數量?'))\n",
        "背心 = int(input('請輸入背心數量?'))\n",
        "總金額 = 上衣*50000 + 褲子*8520000 + 背心*45642800\n",
        "print('訂購服裝的總金額為', 總金額)"
      ],
      "execution_count": 0,
      "outputs": [
        {
          "output_type": "stream",
          "text": [
            "請輸入上衣數量?20\n",
            "請輸入褲子數量?50\n",
            "請輸入背心數量?2\n",
            "訂購服裝的總金額為 518285600\n"
          ],
          "name": "stdout"
        }
      ]
    },
    {
      "cell_type": "code",
      "metadata": {
        "id": "VtRmHX2kTXIT",
        "colab_type": "code",
        "outputId": "f6622746-61e4-4a75-fa0d-438b5e82c0e3",
        "colab": {
          "base_uri": "https://localhost:8080/",
          "height": 51
        }
      },
      "source": [
        "半徑 = float(input('請輸入半徑?'))\n",
        "PI = 3.14159\n",
        "圓周長 = 2 * PI * 半徑\n",
        "圓面積 = 半徑 * 半徑 * PI\n",
        "print('圓周長為', 圓周長, '圓面積為', 圓面積)"
      ],
      "execution_count": 0,
      "outputs": [
        {
          "output_type": "stream",
          "text": [
            "請輸入半徑?20\n",
            "圓周長為 125.6636 圓面積為 1256.636\n"
          ],
          "name": "stdout"
        }
      ]
    },
    {
      "cell_type": "code",
      "metadata": {
        "id": "v6RP42ymUeUp",
        "colab_type": "code",
        "outputId": "93a5b20a-02da-4bc5-9147-cbbed4b1ef77",
        "colab": {
          "base_uri": "https://localhost:8080/",
          "height": 102
        }
      },
      "source": [
        "第一次 = int(input('請輸入第一次期中考成績?'))\n",
        "第二次 = int(input('請輸入第二次期中考成績?'))\n",
        "期末 = int(input('請輸入期末考成績?'))\n",
        "總分 = 第一次 + 第二次 + 期末\n",
        "print('成績的總分為', 總分)\n",
        "print('平均', 總分/3)\n"
      ],
      "execution_count": 0,
      "outputs": [
        {
          "output_type": "stream",
          "text": [
            "請輸入第一次期中考成績?75\n",
            "請輸入第二次期中考成績?80\n",
            "請輸入期末考成績?65\n",
            "成績的總分為 220\n",
            "平均 73.33333333333333\n"
          ],
          "name": "stdout"
        }
      ]
    },
    {
      "cell_type": "code",
      "metadata": {
        "id": "SvAWyfWdXWvh",
        "colab_type": "code",
        "outputId": "9a1828a8-edfc-4286-c65c-e1dbb0ee69d2",
        "colab": {
          "base_uri": "https://localhost:8080/",
          "height": 68
        }
      },
      "source": [
        "尺 = int(input('請輸入幾尺?'))\n",
        "吋 = int(input('請輸入幾吋?'))\n",
        "公分 = ((尺*12+8)*2.54)\n",
        "print('公分', 公分)\n",
        "\n"
      ],
      "execution_count": 0,
      "outputs": [
        {
          "output_type": "stream",
          "text": [
            "請輸入幾尺?5\n",
            "請輸入幾吋?8\n",
            "公分 172.72\n"
          ],
          "name": "stdout"
        }
      ]
    },
    {
      "cell_type": "code",
      "metadata": {
        "id": "C6zZgKQMaGgP",
        "colab_type": "code",
        "colab": {}
      },
      "source": [
        "號碼=int(input('請輸入座號?'))\n"
      ],
      "execution_count": 0,
      "outputs": []
    },
    {
      "cell_type": "code",
      "metadata": {
        "id": "-9QX0E0cc-KH",
        "colab_type": "code",
        "colab": {}
      },
      "source": [
        "罐數= int(input('輸入購買飲料的罐數'))\n"
      ],
      "execution_count": 0,
      "outputs": []
    }
  ]
}